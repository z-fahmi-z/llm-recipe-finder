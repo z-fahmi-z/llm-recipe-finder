{
 "cells": [
  {
   "metadata": {},
   "cell_type": "code",
   "source": [
    "# Load gradio\n",
    "import gradio as gr\n",
    "import pandas as pd"
   ],
   "id": "5ca2ea2b00b9a366",
   "outputs": [],
   "execution_count": null
  },
  {
   "metadata": {},
   "cell_type": "code",
   "source": [
    "# Load parameters\n",
    "from helpers.db_vector_search import load_db\n",
    "db_path = \"../vector-db\"\n",
    "separator = \"\\n\"\n",
    "document_path = f\"{db_path}/recipe_document.txt\"\n",
    "model_name = \"sentence-transformers/all-MiniLM-L6-v2\"\n",
    "db = load_db(\n",
    "    hf_embedding_model_name=model_name,\n",
    "    document_path=document_path,\n",
    "    separator=separator\n",
    ")\n",
    "print(\"Successfully loaded database\")"
   ],
   "id": "2f8d7a59dfbcc6ce",
   "outputs": [],
   "execution_count": null
  },
  {
   "metadata": {},
   "cell_type": "code",
   "source": [
    "# Confirm loaded database\n",
    "test = \"List chicken recipes\"\n",
    "result = db.similarity_search(test, k=5)\n",
    "result"
   ],
   "id": "23cb18658db84ed6",
   "outputs": [],
   "execution_count": null
  },
  {
   "metadata": {},
   "cell_type": "code",
   "source": [
    "# Load df\n",
    "indonesian_recipes = pd.read_csv(\"../csv/final/indonesian_recipes.csv\")\n",
    "indonesian_recipes"
   ],
   "id": "518a1a8a591b51a3",
   "outputs": [],
   "execution_count": null
  },
  {
   "metadata": {},
   "cell_type": "code",
   "source": [
    "indonesian_recipes.drop(\"FlavorProfile\", inplace=True, axis=1)\n",
    "indonesian_recipes"
   ],
   "id": "ab9bc88a573f5cf3",
   "outputs": [],
   "execution_count": null
  },
  {
   "metadata": {},
   "cell_type": "code",
   "source": [
    "# Create function to do vector search and return results as dataframe\n",
    "def find_recipe(query, top_k=10) -> pd.DataFrame:\n",
    "    recommendations = db.similarity_search(query, k=50)\n",
    "    found_recipes = []\n",
    "    for recipe in recommendations:\n",
    "        found_recipes += [recipe.page_content.split(\" x$x \")[0]]\n",
    "    return indonesian_recipes[indonesian_recipes[\"Title\"].isin(found_recipes)].head(top_k)"
   ],
   "id": "55ecdff285c84775",
   "outputs": [],
   "execution_count": null
  },
  {
   "metadata": {},
   "cell_type": "code",
   "source": "find_recipe(\"eggs meal\")",
   "id": "adbb435b3950758b",
   "outputs": [],
   "execution_count": null
  },
  {
   "metadata": {},
   "cell_type": "code",
   "source": [
    "# Create dummy function to test displays\n",
    "def get_recipe(query):\n",
    "    recipes = find_recipe(query)\n",
    "    recipe_details = []\n",
    "    line_break = \"\\n\"\n",
    "    for recipe in recipes.itertuples():\n",
    "        title = recipe.Title.title()\n",
    "        descriptions = f\"{title}\"\n",
    "        recipe_details.append(descriptions)\n",
    "    return line_break.join(recipe_details)"
   ],
   "id": "4709c769dc7658d1",
   "outputs": [],
   "execution_count": null
  },
  {
   "metadata": {},
   "cell_type": "code",
   "source": "get_recipe(\"A simple fried eggs meal\")",
   "id": "161d30019fb6b109",
   "outputs": [],
   "execution_count": null
  },
  {
   "metadata": {},
   "cell_type": "code",
   "source": [
    "# Build demo dashboard as preview\n",
    "with gr.Blocks(\n",
    "    title=\"Dashboard Demo\",\n",
    "    theme=\"soft\"\n",
    ") as demo_dashboard:\n",
    "    with gr.Column():\n",
    "        with gr.Column():\n",
    "            user_input = gr.Textbox(\n",
    "                label=\"Find Recipes\",\n",
    "                placeholder=\"A simple chicken recipe\")\n",
    "            search_button = gr.Button(\"Search\")\n",
    "        with gr.Row():\n",
    "            outputs = gr.Textbox(\n",
    "                label=\"Recipes\",\n",
    "                lines=15\n",
    "            )\n",
    "        search_button.click(\n",
    "            fn=get_recipe,\n",
    "            inputs=user_input,\n",
    "            outputs=outputs,\n",
    "        )"
   ],
   "id": "9ace4b2fc5c1d0c0",
   "outputs": [],
   "execution_count": null
  },
  {
   "metadata": {},
   "cell_type": "code",
   "source": [
    "# Launch demo dashboard\n",
    "demo_dashboard.launch()"
   ],
   "id": "c4003ee4334eae30",
   "outputs": [],
   "execution_count": null
  },
  {
   "metadata": {},
   "cell_type": "code",
   "source": "demo_dashboard.close()",
   "id": "a31cc0f54404da12",
   "outputs": [],
   "execution_count": null
  }
 ],
 "metadata": {
  "kernelspec": {
   "display_name": "Python 3",
   "language": "python",
   "name": "python3"
  },
  "language_info": {
   "codemirror_mode": {
    "name": "ipython",
    "version": 2
   },
   "file_extension": ".py",
   "mimetype": "text/x-python",
   "name": "python",
   "nbconvert_exporter": "python",
   "pygments_lexer": "ipython2",
   "version": "2.7.6"
  }
 },
 "nbformat": 4,
 "nbformat_minor": 5
}
