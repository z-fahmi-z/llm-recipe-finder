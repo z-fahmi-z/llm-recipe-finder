{
 "cells": [
  {
   "cell_type": "code",
   "id": "dd1d61c74d48e703",
   "metadata": {},
   "source": [
    "from helpers.cleaner import *\n",
    "from dotenv import load_dotenv\n",
    "import os\n",
    "load_dotenv()"
   ],
   "outputs": [],
   "execution_count": null
  },
  {
   "metadata": {
    "collapsed": true
   },
   "cell_type": "code",
   "source": "path = os.getenv(\"KAGGLE_PATH\")",
   "id": "initial_id",
   "outputs": [],
   "execution_count": null
  },
  {
   "metadata": {},
   "cell_type": "code",
   "source": [
    "fishs = pd.read_csv(f\"{path}/dataset-ikan.csv\")\n",
    "lambs = pd.read_csv(f\"{path}/dataset-kambing.csv\")\n",
    "tofus = pd.read_csv(f\"{path}/dataset-tahu.csv\")\n",
    "eggs = pd.read_csv(f\"{path}/dataset-telur.csv\")\n",
    "soybeans = pd.read_csv(f\"{path}/dataset-tempe.csv\")\n",
    "prawns = pd.read_csv(f\"{path}/dataset-udang.csv\")"
   ],
   "id": "767589f7ec90fecb",
   "outputs": [],
   "execution_count": null
  },
  {
   "metadata": {},
   "cell_type": "code",
   "source": [
    "dataframes = [fishs, lambs, tofus, eggs, soybeans, prawns]\n",
    "filenames = [\"fishs_cleaned\", \"lambs_cleaned\", \"tofus_cleaned\", \"eggs_cleaned\", \"soybeans_cleaned\", \"prawns_cleaned\"]\n",
    "for i in range(dataframes.__len__()):\n",
    "    df_clean_missing = clean_missing(dataframes[i])\n",
    "    df_cleaned = clean_title_dupes(df_clean_missing)\n",
    "    df_cleaned.to_csv(f\"../csv/cleaned/{filenames[i]}.csv\", index=False)"
   ],
   "id": "5933a3166a547ff5",
   "outputs": [],
   "execution_count": null
  }
 ],
 "metadata": {
  "kernelspec": {
   "display_name": "Python 3",
   "language": "python",
   "name": "python3"
  },
  "language_info": {
   "codemirror_mode": {
    "name": "ipython",
    "version": 2
   },
   "file_extension": ".py",
   "mimetype": "text/x-python",
   "name": "python",
   "nbconvert_exporter": "python",
   "pygments_lexer": "ipython2",
   "version": "2.7.6"
  }
 },
 "nbformat": 4,
 "nbformat_minor": 5
}
