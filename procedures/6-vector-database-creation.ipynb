{
 "cells": [
  {
   "cell_type": "code",
   "id": "45a0fa42e0312c72",
   "metadata": {},
   "source": [
    "# Load libraries\n",
    "from langchain_community.document_loaders import TextLoader\n",
    "from langchain_text_splitters import CharacterTextSplitter\n",
    "from langchain_chroma import Chroma\n",
    "import pandas as pd"
   ],
   "outputs": [],
   "execution_count": null
  },
  {
   "metadata": {
    "collapsed": true
   },
   "cell_type": "code",
   "source": [
    "# Load all ingredients\n",
    "indonesian_recipes = pd.read_csv(\"../csv/final/indonesian_recipes.csv\")\n",
    "indonesian_recipes"
   ],
   "id": "initial_id",
   "outputs": [],
   "execution_count": null
  },
  {
   "metadata": {},
   "cell_type": "code",
   "source": [
    "# Inspect indonesian_recipes df\n",
    "indonesian_recipes.drop(\"FlavorProfile\", inplace=True, axis=1)\n",
    "indonesian_recipes"
   ],
   "id": "f5e7c961fb8ebaba",
   "outputs": [],
   "execution_count": null
  },
  {
   "metadata": {},
   "cell_type": "code",
   "source": [
    "# Create a new DataFrame 'recipes' with the merged relevant columns\n",
    "separator = \" x$x \"\n",
    "recipes = pd.DataFrame({\n",
    "    \"Database_Entry\": (\n",
    "        indonesian_recipes[\"Title\"].astype(str) + separator +\n",
    "        indonesian_recipes[\"Ingredients\"].str.replace(\"--\", \" \", regex=False) + separator +\n",
    "        indonesian_recipes[\"DominantFlavor\"].astype(str)\n",
    "    )\n",
    "})\n",
    "recipes[\"Database_Entry\"][0]"
   ],
   "id": "cf9eea87d31df26b",
   "outputs": [],
   "execution_count": null
  },
  {
   "metadata": {},
   "cell_type": "code",
   "source": [
    "# Load embedding model for test\n",
    "from sentence_transformers import SentenceTransformer\n",
    "sentences = [\"This is an example sentence\", \"Each sentence is converted\"]\n",
    "model = SentenceTransformer('sentence-transformers/all-MiniLM-L6-v2')\n",
    "embeddings = model.encode(sentences)\n",
    "print(embeddings)"
   ],
   "id": "287a5cdf7c3c3b0a",
   "outputs": [],
   "execution_count": null
  },
  {
   "metadata": {},
   "cell_type": "code",
   "source": [
    "# Create an embedding document for recipes\n",
    "db_path = \"../vector-db\"\n",
    "recipes.to_csv(f\"{db_path}/recipe_document.txt\",\n",
    "                          sep=\"\\n\",\n",
    "                          header=False,\n",
    "                          index=False\n",
    "                          )\n",
    "print(\"Successfully created recipe_document.txt\")"
   ],
   "id": "47b0029b18fe7aaf",
   "outputs": [],
   "execution_count": null
  },
  {
   "metadata": {},
   "cell_type": "code",
   "source": [
    "# Split documents\n",
    "raw = TextLoader(f\"{db_path}/recipe_document.txt\", encoding=\"utf-8\").load()\n",
    "text_splitter = CharacterTextSplitter(chunk_size=0, chunk_overlap=0, separator=\"\\n\")\n",
    "documents = text_splitter.split_documents(raw)"
   ],
   "id": "88967deb8cd47d8",
   "outputs": [],
   "execution_count": null
  },
  {
   "metadata": {},
   "cell_type": "code",
   "source": "documents[0]",
   "id": "beade21afc427e1b",
   "outputs": [],
   "execution_count": null
  },
  {
   "metadata": {},
   "cell_type": "code",
   "source": [
    "# Load embeddings_model to Chroma db\n",
    "from langchain_huggingface import HuggingFaceEmbeddings\n",
    "model_name = \"sentence-transformers/all-MiniLM-L6-v2\"\n",
    "embedding_model = HuggingFaceEmbeddings(\n",
    "    model_name=model_name,\n",
    "    model_kwargs={'device': 'cpu'},\n",
    "    encode_kwargs={'normalize_embeddings': False}\n",
    ")\n",
    "vector_db = Chroma().from_documents(\n",
    "    documents,\n",
    "    embedding=embedding_model,\n",
    ")"
   ],
   "id": "64a49a9b086f2d40",
   "outputs": [],
   "execution_count": null
  },
  {
   "metadata": {},
   "cell_type": "code",
   "source": [
    "# Ask simple query\n",
    "test_query = \"A simple seafood dish with slightly savoury flavor\"\n",
    "results = vector_db.similarity_search(test_query, k=5)\n",
    "results"
   ],
   "id": "a78d5f8412c3d54a",
   "outputs": [],
   "execution_count": null
  },
  {
   "metadata": {},
   "cell_type": "code",
   "source": [
    "# Create function to retrieve relevant dataframe values per query\n",
    "def find_recipe(query, top_k=10) -> pd.DataFrame:\n",
    "    recommendations = vector_db.similarity_search(query, k=50)\n",
    "    found_recipes = []\n",
    "    for recipe in recommendations:\n",
    "        found_recipes += [recipe.page_content.split(\" x$x \")[0]]\n",
    "    return indonesian_recipes[indonesian_recipes[\"Title\"].isin(found_recipes)]"
   ],
   "id": "240d53c2459b0d06",
   "outputs": [],
   "execution_count": null
  },
  {
   "metadata": {},
   "cell_type": "code",
   "source": [
    "# Call function\n",
    "find_recipe(\"A simple chicken recipe that I can make in 5 minutes\")"
   ],
   "id": "327139eb348ab732",
   "outputs": [],
   "execution_count": null
  }
 ],
 "metadata": {
  "kernelspec": {
   "display_name": "Python 3",
   "language": "python",
   "name": "python3"
  },
  "language_info": {
   "codemirror_mode": {
    "name": "ipython",
    "version": 2
   },
   "file_extension": ".py",
   "mimetype": "text/x-python",
   "name": "python",
   "nbconvert_exporter": "python",
   "pygments_lexer": "ipython2",
   "version": "2.7.6"
  }
 },
 "nbformat": 4,
 "nbformat_minor": 5
}
