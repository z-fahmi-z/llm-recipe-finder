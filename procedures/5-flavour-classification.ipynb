{
 "cells": [
  {
   "cell_type": "code",
   "id": "a930ca9d49467ab",
   "metadata": {
    "ExecuteTime": {
     "end_time": "2025-05-09T09:26:11.759019Z",
     "start_time": "2025-05-09T09:26:11.729056Z"
    }
   },
   "source": [
    "from dotenv import load_dotenv\n",
    "load_dotenv()"
   ],
   "outputs": [
    {
     "data": {
      "text/plain": [
       "True"
      ]
     },
     "execution_count": 1,
     "metadata": {},
     "output_type": "execute_result"
    }
   ],
   "execution_count": 1
  },
  {
   "metadata": {
    "collapsed": true,
    "ExecuteTime": {
     "end_time": "2025-05-09T09:26:12.563748Z",
     "start_time": "2025-05-09T09:26:11.767539Z"
    }
   },
   "cell_type": "code",
   "source": [
    "# Load translated dataframe\n",
    "import pandas as pd\n",
    "chickens = pd.read_csv('../csv/translated/chickens_translated_en.csv')\n",
    "chickens"
   ],
   "id": "initial_id",
   "outputs": [
    {
     "data": {
      "text/plain": [
       "                                                  Title  \\\n",
       "0                                Sweet and Sour Chicken   \n",
       "1                                         Bacem Chicken   \n",
       "2                                       Grilled Chicken   \n",
       "3                      Grilled Chicken with Rujak Spice   \n",
       "4                             Sweet Soy Grilled Chicken   \n",
       "...                                                 ...   \n",
       "1248                       Chicken and Bean Sprout Stew   \n",
       "1249                         Spicy Basil Chicken Scream   \n",
       "1250                  Chicken and Tofu with Green Chili   \n",
       "1251  Fried Chicken with Green Chili and Ginger......😁😁   \n",
       "1252      Steamed Buns (Chicken and Chocolate Fillings)   \n",
       "\n",
       "                                            Ingredients  \\\n",
       "0     1/2 chicken--1 tbsp cornstarch--Water--Sauce i...   \n",
       "1     1 chicken (cut into 12)--500 ml coconut water-...   \n",
       "2     12 chicken pieces (thighs and drumsticks)--Gro...   \n",
       "3     1/2 free-range chicken--10 garlic cloves--Pepp...   \n",
       "4     1/2 kg chicken wings--3 garlic cloves--2 cm tu...   \n",
       "...                                                 ...   \n",
       "1248  1/4 chicken--1 pack bean sprouts--3 shallots--...   \n",
       "1249  1/2 kg pre-boiled chicken--1 bunch basil--2 ca...   \n",
       "1250  Fresh chicken, cut into small pieces--Tofu, cu...   \n",
       "1251  1 Chicken (Cut into 15)--1/2 Kg Large Green Ch...   \n",
       "1252  For the dough:--500 gr pao flour--100 gr granu...   \n",
       "\n",
       "                                                  Steps         FlavorProfile  \n",
       "0     1. Clean the chicken and marinate with salt, s...   sweet, sour, savory  \n",
       "1     1. Clean the chicken thoroughly. Blend all gro...         savory, sweet  \n",
       "2     1. Sauté ground spices until fragrant. Add Wor...  savory, smoky, sweet  \n",
       "3     1. Blend bird's eye chilies, curly chilies, ga...  spicy, sweet, savory  \n",
       "4     1. Blend garlic, turmeric, and salt--2. Braise...         sweet, savory  \n",
       "...                                                 ...                   ...  \n",
       "1248  1. Boil water, cook chicken until tender--2. G...         savory, umami  \n",
       "1249  1. Fry the pre-boiled chicken until cooked the...  spicy, savory, umami  \n",
       "1250  1. Fry chicken and tofu until golden, not too ...  spicy, savory, umami  \n",
       "1251  1. Wash the chicken thoroughly then drain--2. ...  spicy, savory, umami  \n",
       "1252  For the chicken filling:--1. Marinate chicken ...  savory, umami, sweet  \n",
       "\n",
       "[1253 rows x 4 columns]"
      ],
      "text/html": [
       "<div>\n",
       "<style scoped>\n",
       "    .dataframe tbody tr th:only-of-type {\n",
       "        vertical-align: middle;\n",
       "    }\n",
       "\n",
       "    .dataframe tbody tr th {\n",
       "        vertical-align: top;\n",
       "    }\n",
       "\n",
       "    .dataframe thead th {\n",
       "        text-align: right;\n",
       "    }\n",
       "</style>\n",
       "<table border=\"1\" class=\"dataframe\">\n",
       "  <thead>\n",
       "    <tr style=\"text-align: right;\">\n",
       "      <th></th>\n",
       "      <th>Title</th>\n",
       "      <th>Ingredients</th>\n",
       "      <th>Steps</th>\n",
       "      <th>FlavorProfile</th>\n",
       "    </tr>\n",
       "  </thead>\n",
       "  <tbody>\n",
       "    <tr>\n",
       "      <th>0</th>\n",
       "      <td>Sweet and Sour Chicken</td>\n",
       "      <td>1/2 chicken--1 tbsp cornstarch--Water--Sauce i...</td>\n",
       "      <td>1. Clean the chicken and marinate with salt, s...</td>\n",
       "      <td>sweet, sour, savory</td>\n",
       "    </tr>\n",
       "    <tr>\n",
       "      <th>1</th>\n",
       "      <td>Bacem Chicken</td>\n",
       "      <td>1 chicken (cut into 12)--500 ml coconut water-...</td>\n",
       "      <td>1. Clean the chicken thoroughly. Blend all gro...</td>\n",
       "      <td>savory, sweet</td>\n",
       "    </tr>\n",
       "    <tr>\n",
       "      <th>2</th>\n",
       "      <td>Grilled Chicken</td>\n",
       "      <td>12 chicken pieces (thighs and drumsticks)--Gro...</td>\n",
       "      <td>1. Sauté ground spices until fragrant. Add Wor...</td>\n",
       "      <td>savory, smoky, sweet</td>\n",
       "    </tr>\n",
       "    <tr>\n",
       "      <th>3</th>\n",
       "      <td>Grilled Chicken with Rujak Spice</td>\n",
       "      <td>1/2 free-range chicken--10 garlic cloves--Pepp...</td>\n",
       "      <td>1. Blend bird's eye chilies, curly chilies, ga...</td>\n",
       "      <td>spicy, sweet, savory</td>\n",
       "    </tr>\n",
       "    <tr>\n",
       "      <th>4</th>\n",
       "      <td>Sweet Soy Grilled Chicken</td>\n",
       "      <td>1/2 kg chicken wings--3 garlic cloves--2 cm tu...</td>\n",
       "      <td>1. Blend garlic, turmeric, and salt--2. Braise...</td>\n",
       "      <td>sweet, savory</td>\n",
       "    </tr>\n",
       "    <tr>\n",
       "      <th>...</th>\n",
       "      <td>...</td>\n",
       "      <td>...</td>\n",
       "      <td>...</td>\n",
       "      <td>...</td>\n",
       "    </tr>\n",
       "    <tr>\n",
       "      <th>1248</th>\n",
       "      <td>Chicken and Bean Sprout Stew</td>\n",
       "      <td>1/4 chicken--1 pack bean sprouts--3 shallots--...</td>\n",
       "      <td>1. Boil water, cook chicken until tender--2. G...</td>\n",
       "      <td>savory, umami</td>\n",
       "    </tr>\n",
       "    <tr>\n",
       "      <th>1249</th>\n",
       "      <td>Spicy Basil Chicken Scream</td>\n",
       "      <td>1/2 kg pre-boiled chicken--1 bunch basil--2 ca...</td>\n",
       "      <td>1. Fry the pre-boiled chicken until cooked the...</td>\n",
       "      <td>spicy, savory, umami</td>\n",
       "    </tr>\n",
       "    <tr>\n",
       "      <th>1250</th>\n",
       "      <td>Chicken and Tofu with Green Chili</td>\n",
       "      <td>Fresh chicken, cut into small pieces--Tofu, cu...</td>\n",
       "      <td>1. Fry chicken and tofu until golden, not too ...</td>\n",
       "      <td>spicy, savory, umami</td>\n",
       "    </tr>\n",
       "    <tr>\n",
       "      <th>1251</th>\n",
       "      <td>Fried Chicken with Green Chili and Ginger......😁😁</td>\n",
       "      <td>1 Chicken (Cut into 15)--1/2 Kg Large Green Ch...</td>\n",
       "      <td>1. Wash the chicken thoroughly then drain--2. ...</td>\n",
       "      <td>spicy, savory, umami</td>\n",
       "    </tr>\n",
       "    <tr>\n",
       "      <th>1252</th>\n",
       "      <td>Steamed Buns (Chicken and Chocolate Fillings)</td>\n",
       "      <td>For the dough:--500 gr pao flour--100 gr granu...</td>\n",
       "      <td>For the chicken filling:--1. Marinate chicken ...</td>\n",
       "      <td>savory, umami, sweet</td>\n",
       "    </tr>\n",
       "  </tbody>\n",
       "</table>\n",
       "<p>1253 rows × 4 columns</p>\n",
       "</div>"
      ]
     },
     "execution_count": 2,
     "metadata": {},
     "output_type": "execute_result"
    }
   ],
   "execution_count": 2
  },
  {
   "metadata": {},
   "cell_type": "code",
   "source": [
    "# Inspect flavour profiles\n",
    "chickens[\"FlavorProfile\"]"
   ],
   "id": "c5418af396b451d1",
   "outputs": [
    {
     "data": {
      "text/plain": [
       "0        sweet, sour, savory\n",
       "1              savory, sweet\n",
       "2       savory, smoky, sweet\n",
       "3       spicy, sweet, savory\n",
       "4              sweet, savory\n",
       "                ...         \n",
       "1248           savory, umami\n",
       "1249    spicy, savory, umami\n",
       "1250    spicy, savory, umami\n",
       "1251    spicy, savory, umami\n",
       "1252    savory, umami, sweet\n",
       "Name: FlavorProfile, Length: 1253, dtype: object"
      ]
     },
     "execution_count": 3,
     "metadata": {},
     "output_type": "execute_result"
    }
   ],
   "execution_count": 3
  },
  {
   "metadata": {
    "ExecuteTime": {
     "end_time": "2025-05-09T09:26:13.039664Z",
     "start_time": "2025-05-09T09:26:12.963936Z"
    }
   },
   "cell_type": "code",
   "source": [
    "# Clean whitespaces\n",
    "chickens[\"FlavorProfile\"] = chickens[\"FlavorProfile\"].str.replace(\" \", \"\")\n",
    "chickens[\"FlavorProfile\"]"
   ],
   "id": "c56be1cc0fe43285",
   "outputs": [
    {
     "data": {
      "text/plain": [
       "0        sweet,sour,savory\n",
       "1             savory,sweet\n",
       "2       savory,smoky,sweet\n",
       "3       spicy,sweet,savory\n",
       "4             sweet,savory\n",
       "               ...        \n",
       "1248          savory,umami\n",
       "1249    spicy,savory,umami\n",
       "1250    spicy,savory,umami\n",
       "1251    spicy,savory,umami\n",
       "1252    savory,umami,sweet\n",
       "Name: FlavorProfile, Length: 1253, dtype: object"
      ]
     },
     "execution_count": 4,
     "metadata": {},
     "output_type": "execute_result"
    }
   ],
   "execution_count": 4
  },
  {
   "metadata": {
    "ExecuteTime": {
     "end_time": "2025-05-09T09:26:13.167561Z",
     "start_time": "2025-05-09T09:26:13.131481Z"
    }
   },
   "cell_type": "code",
   "source": [
    "# Inspect additional flavour profiles that was not in system_prompt\n",
    "flavour_profile = chickens[\"FlavorProfile\"]\n",
    "filter_flavour_profile = flavour_profile\n",
    "known_categories = [\"sweet\", \"sour\", \"salty\", \"bitter\", \"umami\", \"savory\", \"smoky\"]\n",
    "for category in known_categories:\n",
    "    filter_flavour_profile = (\n",
    "        filter_flavour_profile.\n",
    "        str.replace(category, \"\").\n",
    "        str.replace(r'^[^a-zA-Z]+|[^a-zA-Z]+$|,(?=,)', '', regex=True)\n",
    "    )\n",
    "filter_flavour_profile = filter_flavour_profile[filter_flavour_profile.str.strip().ne(\"\")]\n",
    "filter_flavour_profile"
   ],
   "id": "d12e3167560aaeb8",
   "outputs": [
    {
     "data": {
      "text/plain": [
       "3       spicy\n",
       "5       spicy\n",
       "8       spicy\n",
       "9       spicy\n",
       "10      spicy\n",
       "        ...  \n",
       "1245    spicy\n",
       "1246    spicy\n",
       "1249    spicy\n",
       "1250    spicy\n",
       "1251    spicy\n",
       "Name: FlavorProfile, Length: 604, dtype: object"
      ]
     },
     "execution_count": 5,
     "metadata": {},
     "output_type": "execute_result"
    }
   ],
   "execution_count": 5
  },
  {
   "metadata": {
    "ExecuteTime": {
     "end_time": "2025-05-09T09:26:13.439937Z",
     "start_time": "2025-05-09T09:26:13.418076Z"
    }
   },
   "cell_type": "code",
   "source": [
    "# Count values\n",
    "count_filtered_flavours = filter_flavour_profile.value_counts().reset_index().sort_values(\"count\", ascending=False)\n",
    "count_filtered_flavours"
   ],
   "id": "aa7e584cb6efef6e",
   "outputs": [
    {
     "data": {
      "text/plain": [
       "             FlavorProfile  count\n",
       "0                    spicy    377\n",
       "1                 slightly     61\n",
       "2                 aromatic     45\n",
       "3                   crispy     20\n",
       "4                   creamy     16\n",
       "5           spicy,aromatic     14\n",
       "6   aromatic,slightlyspicy      7\n",
       "7           spicy,slightly      6\n",
       "8                     mild      6\n",
       "9                   herbal      5\n",
       "10            spicy,crispy      4\n",
       "11       slightly,aromatic      4\n",
       "12           slightlyspicy      4\n",
       "13             spicy,tangy      3\n",
       "14            spicy,cheesy      3\n",
       "15                   tangy      3\n",
       "16            spicy,herbal      2\n",
       "17                    rich      2\n",
       "18                  cheesy      2\n",
       "19               veryspicy      2\n",
       "20                garlicky      2\n",
       "21                 buttery      2\n",
       "22          slightly,spicy      2\n",
       "23             tangy,spicy      1\n",
       "24                   nutty      1\n",
       "25       aromatic,slightly      1\n",
       "26    fresh,tangy,slightly      1\n",
       "27          aromatic,spicy      1\n",
       "28            spicy,creamy      1\n",
       "29              spicy,rich      1\n",
       "30        peppery,slightly      1\n",
       "31        buttery,slightly      1\n",
       "32         creamy,aromatic      1\n",
       "33           slightlytangy      1\n",
       "34            cheesy,spicy      1"
      ],
      "text/html": [
       "<div>\n",
       "<style scoped>\n",
       "    .dataframe tbody tr th:only-of-type {\n",
       "        vertical-align: middle;\n",
       "    }\n",
       "\n",
       "    .dataframe tbody tr th {\n",
       "        vertical-align: top;\n",
       "    }\n",
       "\n",
       "    .dataframe thead th {\n",
       "        text-align: right;\n",
       "    }\n",
       "</style>\n",
       "<table border=\"1\" class=\"dataframe\">\n",
       "  <thead>\n",
       "    <tr style=\"text-align: right;\">\n",
       "      <th></th>\n",
       "      <th>FlavorProfile</th>\n",
       "      <th>count</th>\n",
       "    </tr>\n",
       "  </thead>\n",
       "  <tbody>\n",
       "    <tr>\n",
       "      <th>0</th>\n",
       "      <td>spicy</td>\n",
       "      <td>377</td>\n",
       "    </tr>\n",
       "    <tr>\n",
       "      <th>1</th>\n",
       "      <td>slightly</td>\n",
       "      <td>61</td>\n",
       "    </tr>\n",
       "    <tr>\n",
       "      <th>2</th>\n",
       "      <td>aromatic</td>\n",
       "      <td>45</td>\n",
       "    </tr>\n",
       "    <tr>\n",
       "      <th>3</th>\n",
       "      <td>crispy</td>\n",
       "      <td>20</td>\n",
       "    </tr>\n",
       "    <tr>\n",
       "      <th>4</th>\n",
       "      <td>creamy</td>\n",
       "      <td>16</td>\n",
       "    </tr>\n",
       "    <tr>\n",
       "      <th>5</th>\n",
       "      <td>spicy,aromatic</td>\n",
       "      <td>14</td>\n",
       "    </tr>\n",
       "    <tr>\n",
       "      <th>6</th>\n",
       "      <td>aromatic,slightlyspicy</td>\n",
       "      <td>7</td>\n",
       "    </tr>\n",
       "    <tr>\n",
       "      <th>7</th>\n",
       "      <td>spicy,slightly</td>\n",
       "      <td>6</td>\n",
       "    </tr>\n",
       "    <tr>\n",
       "      <th>8</th>\n",
       "      <td>mild</td>\n",
       "      <td>6</td>\n",
       "    </tr>\n",
       "    <tr>\n",
       "      <th>9</th>\n",
       "      <td>herbal</td>\n",
       "      <td>5</td>\n",
       "    </tr>\n",
       "    <tr>\n",
       "      <th>10</th>\n",
       "      <td>spicy,crispy</td>\n",
       "      <td>4</td>\n",
       "    </tr>\n",
       "    <tr>\n",
       "      <th>11</th>\n",
       "      <td>slightly,aromatic</td>\n",
       "      <td>4</td>\n",
       "    </tr>\n",
       "    <tr>\n",
       "      <th>12</th>\n",
       "      <td>slightlyspicy</td>\n",
       "      <td>4</td>\n",
       "    </tr>\n",
       "    <tr>\n",
       "      <th>13</th>\n",
       "      <td>spicy,tangy</td>\n",
       "      <td>3</td>\n",
       "    </tr>\n",
       "    <tr>\n",
       "      <th>14</th>\n",
       "      <td>spicy,cheesy</td>\n",
       "      <td>3</td>\n",
       "    </tr>\n",
       "    <tr>\n",
       "      <th>15</th>\n",
       "      <td>tangy</td>\n",
       "      <td>3</td>\n",
       "    </tr>\n",
       "    <tr>\n",
       "      <th>16</th>\n",
       "      <td>spicy,herbal</td>\n",
       "      <td>2</td>\n",
       "    </tr>\n",
       "    <tr>\n",
       "      <th>17</th>\n",
       "      <td>rich</td>\n",
       "      <td>2</td>\n",
       "    </tr>\n",
       "    <tr>\n",
       "      <th>18</th>\n",
       "      <td>cheesy</td>\n",
       "      <td>2</td>\n",
       "    </tr>\n",
       "    <tr>\n",
       "      <th>19</th>\n",
       "      <td>veryspicy</td>\n",
       "      <td>2</td>\n",
       "    </tr>\n",
       "    <tr>\n",
       "      <th>20</th>\n",
       "      <td>garlicky</td>\n",
       "      <td>2</td>\n",
       "    </tr>\n",
       "    <tr>\n",
       "      <th>21</th>\n",
       "      <td>buttery</td>\n",
       "      <td>2</td>\n",
       "    </tr>\n",
       "    <tr>\n",
       "      <th>22</th>\n",
       "      <td>slightly,spicy</td>\n",
       "      <td>2</td>\n",
       "    </tr>\n",
       "    <tr>\n",
       "      <th>23</th>\n",
       "      <td>tangy,spicy</td>\n",
       "      <td>1</td>\n",
       "    </tr>\n",
       "    <tr>\n",
       "      <th>24</th>\n",
       "      <td>nutty</td>\n",
       "      <td>1</td>\n",
       "    </tr>\n",
       "    <tr>\n",
       "      <th>25</th>\n",
       "      <td>aromatic,slightly</td>\n",
       "      <td>1</td>\n",
       "    </tr>\n",
       "    <tr>\n",
       "      <th>26</th>\n",
       "      <td>fresh,tangy,slightly</td>\n",
       "      <td>1</td>\n",
       "    </tr>\n",
       "    <tr>\n",
       "      <th>27</th>\n",
       "      <td>aromatic,spicy</td>\n",
       "      <td>1</td>\n",
       "    </tr>\n",
       "    <tr>\n",
       "      <th>28</th>\n",
       "      <td>spicy,creamy</td>\n",
       "      <td>1</td>\n",
       "    </tr>\n",
       "    <tr>\n",
       "      <th>29</th>\n",
       "      <td>spicy,rich</td>\n",
       "      <td>1</td>\n",
       "    </tr>\n",
       "    <tr>\n",
       "      <th>30</th>\n",
       "      <td>peppery,slightly</td>\n",
       "      <td>1</td>\n",
       "    </tr>\n",
       "    <tr>\n",
       "      <th>31</th>\n",
       "      <td>buttery,slightly</td>\n",
       "      <td>1</td>\n",
       "    </tr>\n",
       "    <tr>\n",
       "      <th>32</th>\n",
       "      <td>creamy,aromatic</td>\n",
       "      <td>1</td>\n",
       "    </tr>\n",
       "    <tr>\n",
       "      <th>33</th>\n",
       "      <td>slightlytangy</td>\n",
       "      <td>1</td>\n",
       "    </tr>\n",
       "    <tr>\n",
       "      <th>34</th>\n",
       "      <td>cheesy,spicy</td>\n",
       "      <td>1</td>\n",
       "    </tr>\n",
       "  </tbody>\n",
       "</table>\n",
       "</div>"
      ]
     },
     "execution_count": 6,
     "metadata": {},
     "output_type": "execute_result"
    }
   ],
   "execution_count": 6
  },
  {
   "metadata": {
    "ExecuteTime": {
     "end_time": "2025-05-09T09:26:27.332052Z",
     "start_time": "2025-05-09T09:26:13.615797Z"
    }
   },
   "cell_type": "code",
   "source": [
    "# Load zero-shot-classification model\n",
    "from transformers import pipeline\n",
    "model = \"facebook/bart-large-mnli\"\n",
    "zero_shot_classifier = pipeline(\n",
    "    \"zero-shot-classification\",\n",
    "    model=model,\n",
    "    device=\"cpu\"\n",
    ")"
   ],
   "id": "915ddf860200f745",
   "outputs": [
    {
     "name": "stderr",
     "output_type": "stream",
     "text": [
      "Device set to use cpu\n"
     ]
    }
   ],
   "execution_count": 7
  },
  {
   "metadata": {
    "ExecuteTime": {
     "end_time": "2025-05-09T09:26:27.401823Z",
     "start_time": "2025-05-09T09:26:27.392900Z"
    }
   },
   "cell_type": "code",
   "source": [
    "# Get the flavor profile of the  first recipe entry\n",
    "first_entry_flavor_profile = chickens.loc[0][\"FlavorProfile\"].split(\",\")\n",
    "first_entry_flavor_profile = first_entry_flavor_profile[0:2]\n",
    "first_entry_flavor_profile"
   ],
   "id": "4b6573f7b34085ed",
   "outputs": [
    {
     "data": {
      "text/plain": [
       "['sweet', 'sour']"
      ]
     },
     "execution_count": 8,
     "metadata": {},
     "output_type": "execute_result"
    }
   ],
   "execution_count": 8
  },
  {
   "metadata": {
    "ExecuteTime": {
     "end_time": "2025-05-09T09:26:27.468315Z",
     "start_time": "2025-05-09T09:26:27.460860Z"
    }
   },
   "cell_type": "code",
   "source": [
    "# Get the ingredients of the first entry\n",
    "first_entry_ingredients = chickens.loc[0][\"Ingredients\"]\n",
    "first_entry_ingredients"
   ],
   "id": "b64aa3e868ffc88a",
   "outputs": [
    {
     "data": {
      "text/plain": [
       "'1/2 chicken--1 tbsp cornstarch--Water--Sauce ingredients:--1 onion (cut into 8 parts)--2 cloves garlic (minced)--1 carrot (julienned)--1 red chili (diced, seeds removed)--4 tbsp tomato sauce--Salt--Sugar--Seasoning--Pepper--1 tbsp cornstarch (dissolved)'"
      ]
     },
     "execution_count": 9,
     "metadata": {},
     "output_type": "execute_result"
    }
   ],
   "execution_count": 9
  },
  {
   "metadata": {
    "ExecuteTime": {
     "end_time": "2025-05-09T09:26:32.911675Z",
     "start_time": "2025-05-09T09:26:27.625833Z"
    }
   },
   "cell_type": "code",
   "source": [
    "# Test for zero-shot-classification task\n",
    "result = zero_shot_classifier(first_entry_ingredients, first_entry_flavor_profile)\n",
    "result"
   ],
   "id": "b254a527db51dd25",
   "outputs": [
    {
     "data": {
      "text/plain": [
       "{'sequence': '1/2 chicken--1 tbsp cornstarch--Water--Sauce ingredients:--1 onion (cut into 8 parts)--2 cloves garlic (minced)--1 carrot (julienned)--1 red chili (diced, seeds removed)--4 tbsp tomato sauce--Salt--Sugar--Seasoning--Pepper--1 tbsp cornstarch (dissolved)',\n",
       " 'labels': ['sweet', 'sour'],\n",
       " 'scores': [0.5984093546867371, 0.40159058570861816]}"
      ]
     },
     "execution_count": 10,
     "metadata": {},
     "output_type": "execute_result"
    }
   ],
   "execution_count": 10
  },
  {
   "metadata": {
    "ExecuteTime": {
     "end_time": "2025-05-09T09:26:33.017872Z",
     "start_time": "2025-05-09T09:26:33.008404Z"
    }
   },
   "cell_type": "code",
   "source": [
    "# Get max score and most dominant flavor profile\n",
    "import numpy as np\n",
    "dominant_fp = result[\"labels\"][np.argmax(result[\"scores\"])]\n",
    "dominant_fp"
   ],
   "id": "570991a68bee43bd",
   "outputs": [
    {
     "data": {
      "text/plain": [
       "'sweet'"
      ]
     },
     "execution_count": 11,
     "metadata": {},
     "output_type": "execute_result"
    }
   ],
   "execution_count": 11
  },
  {
   "metadata": {
    "ExecuteTime": {
     "end_time": "2025-05-09T09:26:34.715358Z",
     "start_time": "2025-05-09T09:26:33.149380Z"
    }
   },
   "cell_type": "code",
   "source": [
    "# Create function to predict most dominant flavor profile to the recipe\n",
    "def predict_most_dominant_fp(recipe):\n",
    "    classified = zero_shot_classifier(recipe[\"Ingredients\"], recipe[\"FlavorProfile\"])\n",
    "    max_score_index = np.argmax(classified[\"scores\"])\n",
    "    return classified[\"labels\"][max_score_index]\n",
    "first_entry = chickens.loc[0]\n",
    "predict_most_dominant_fp(first_entry)"
   ],
   "id": "ff6c68b2c09a160c",
   "outputs": [
    {
     "data": {
      "text/plain": [
       "'savory'"
      ]
     },
     "execution_count": 12,
     "metadata": {},
     "output_type": "execute_result"
    }
   ],
   "execution_count": 12
  },
  {
   "metadata": {
    "ExecuteTime": {
     "end_time": "2025-05-09T09:26:34.827383Z",
     "start_time": "2025-05-09T09:26:34.816498Z"
    }
   },
   "cell_type": "code",
   "source": [
    "# Customize the progress bar appearance\n",
    "from tqdm.notebook import tqdm\n",
    "tqdm.pandas(\n",
    "    desc=\"Predicting Dominant Flavor Profile\",\n",
    "    bar_format = \"{l_bar}{bar}|{n_fmt}/{total_fmt}[{remaining}]\",\n",
    "    colour='blue'\n",
    ")"
   ],
   "id": "9527de3fcfbacbd1",
   "outputs": [],
   "execution_count": 13
  },
  {
   "metadata": {
    "ExecuteTime": {
     "end_time": "2025-05-09T10:00:36.664703Z",
     "start_time": "2025-05-09T09:26:34.847848Z"
    }
   },
   "cell_type": "code",
   "source": [
    "# Start prediction\n",
    "chickens['DominantFlavor'] = chickens.progress_apply(predict_most_dominant_fp, axis=1)\n",
    "chickens"
   ],
   "id": "a9f93b5654f6cb57",
   "outputs": [
    {
     "data": {
      "text/plain": [
       "Predicting Dominant Flavor Profile:   0%|          |0/1253[?]"
      ],
      "application/vnd.jupyter.widget-view+json": {
       "version_major": 2,
       "version_minor": 0,
       "model_id": "593b9907125541e0bf82012a5421d0d6"
      }
     },
     "metadata": {},
     "output_type": "display_data"
    },
    {
     "data": {
      "text/plain": [
       "                                                  Title  \\\n",
       "0                                Sweet and Sour Chicken   \n",
       "1                                         Bacem Chicken   \n",
       "2                                       Grilled Chicken   \n",
       "3                      Grilled Chicken with Rujak Spice   \n",
       "4                             Sweet Soy Grilled Chicken   \n",
       "...                                                 ...   \n",
       "1248                       Chicken and Bean Sprout Stew   \n",
       "1249                         Spicy Basil Chicken Scream   \n",
       "1250                  Chicken and Tofu with Green Chili   \n",
       "1251  Fried Chicken with Green Chili and Ginger......😁😁   \n",
       "1252      Steamed Buns (Chicken and Chocolate Fillings)   \n",
       "\n",
       "                                            Ingredients  \\\n",
       "0     1/2 chicken--1 tbsp cornstarch--Water--Sauce i...   \n",
       "1     1 chicken (cut into 12)--500 ml coconut water-...   \n",
       "2     12 chicken pieces (thighs and drumsticks)--Gro...   \n",
       "3     1/2 free-range chicken--10 garlic cloves--Pepp...   \n",
       "4     1/2 kg chicken wings--3 garlic cloves--2 cm tu...   \n",
       "...                                                 ...   \n",
       "1248  1/4 chicken--1 pack bean sprouts--3 shallots--...   \n",
       "1249  1/2 kg pre-boiled chicken--1 bunch basil--2 ca...   \n",
       "1250  Fresh chicken, cut into small pieces--Tofu, cu...   \n",
       "1251  1 Chicken (Cut into 15)--1/2 Kg Large Green Ch...   \n",
       "1252  For the dough:--500 gr pao flour--100 gr granu...   \n",
       "\n",
       "                                                  Steps       FlavorProfile  \\\n",
       "0     1. Clean the chicken and marinate with salt, s...   sweet,sour,savory   \n",
       "1     1. Clean the chicken thoroughly. Blend all gro...        savory,sweet   \n",
       "2     1. Sauté ground spices until fragrant. Add Wor...  savory,smoky,sweet   \n",
       "3     1. Blend bird's eye chilies, curly chilies, ga...  spicy,sweet,savory   \n",
       "4     1. Blend garlic, turmeric, and salt--2. Braise...        sweet,savory   \n",
       "...                                                 ...                 ...   \n",
       "1248  1. Boil water, cook chicken until tender--2. G...        savory,umami   \n",
       "1249  1. Fry the pre-boiled chicken until cooked the...  spicy,savory,umami   \n",
       "1250  1. Fry chicken and tofu until golden, not too ...  spicy,savory,umami   \n",
       "1251  1. Wash the chicken thoroughly then drain--2. ...  spicy,savory,umami   \n",
       "1252  For the chicken filling:--1. Marinate chicken ...  savory,umami,sweet   \n",
       "\n",
       "     DominantFlavor  \n",
       "0            savory  \n",
       "1             sweet  \n",
       "2            savory  \n",
       "3             spicy  \n",
       "4             sweet  \n",
       "...             ...  \n",
       "1248         savory  \n",
       "1249          spicy  \n",
       "1250          spicy  \n",
       "1251          spicy  \n",
       "1252         savory  \n",
       "\n",
       "[1253 rows x 5 columns]"
      ],
      "text/html": [
       "<div>\n",
       "<style scoped>\n",
       "    .dataframe tbody tr th:only-of-type {\n",
       "        vertical-align: middle;\n",
       "    }\n",
       "\n",
       "    .dataframe tbody tr th {\n",
       "        vertical-align: top;\n",
       "    }\n",
       "\n",
       "    .dataframe thead th {\n",
       "        text-align: right;\n",
       "    }\n",
       "</style>\n",
       "<table border=\"1\" class=\"dataframe\">\n",
       "  <thead>\n",
       "    <tr style=\"text-align: right;\">\n",
       "      <th></th>\n",
       "      <th>Title</th>\n",
       "      <th>Ingredients</th>\n",
       "      <th>Steps</th>\n",
       "      <th>FlavorProfile</th>\n",
       "      <th>DominantFlavor</th>\n",
       "    </tr>\n",
       "  </thead>\n",
       "  <tbody>\n",
       "    <tr>\n",
       "      <th>0</th>\n",
       "      <td>Sweet and Sour Chicken</td>\n",
       "      <td>1/2 chicken--1 tbsp cornstarch--Water--Sauce i...</td>\n",
       "      <td>1. Clean the chicken and marinate with salt, s...</td>\n",
       "      <td>sweet,sour,savory</td>\n",
       "      <td>savory</td>\n",
       "    </tr>\n",
       "    <tr>\n",
       "      <th>1</th>\n",
       "      <td>Bacem Chicken</td>\n",
       "      <td>1 chicken (cut into 12)--500 ml coconut water-...</td>\n",
       "      <td>1. Clean the chicken thoroughly. Blend all gro...</td>\n",
       "      <td>savory,sweet</td>\n",
       "      <td>sweet</td>\n",
       "    </tr>\n",
       "    <tr>\n",
       "      <th>2</th>\n",
       "      <td>Grilled Chicken</td>\n",
       "      <td>12 chicken pieces (thighs and drumsticks)--Gro...</td>\n",
       "      <td>1. Sauté ground spices until fragrant. Add Wor...</td>\n",
       "      <td>savory,smoky,sweet</td>\n",
       "      <td>savory</td>\n",
       "    </tr>\n",
       "    <tr>\n",
       "      <th>3</th>\n",
       "      <td>Grilled Chicken with Rujak Spice</td>\n",
       "      <td>1/2 free-range chicken--10 garlic cloves--Pepp...</td>\n",
       "      <td>1. Blend bird's eye chilies, curly chilies, ga...</td>\n",
       "      <td>spicy,sweet,savory</td>\n",
       "      <td>spicy</td>\n",
       "    </tr>\n",
       "    <tr>\n",
       "      <th>4</th>\n",
       "      <td>Sweet Soy Grilled Chicken</td>\n",
       "      <td>1/2 kg chicken wings--3 garlic cloves--2 cm tu...</td>\n",
       "      <td>1. Blend garlic, turmeric, and salt--2. Braise...</td>\n",
       "      <td>sweet,savory</td>\n",
       "      <td>sweet</td>\n",
       "    </tr>\n",
       "    <tr>\n",
       "      <th>...</th>\n",
       "      <td>...</td>\n",
       "      <td>...</td>\n",
       "      <td>...</td>\n",
       "      <td>...</td>\n",
       "      <td>...</td>\n",
       "    </tr>\n",
       "    <tr>\n",
       "      <th>1248</th>\n",
       "      <td>Chicken and Bean Sprout Stew</td>\n",
       "      <td>1/4 chicken--1 pack bean sprouts--3 shallots--...</td>\n",
       "      <td>1. Boil water, cook chicken until tender--2. G...</td>\n",
       "      <td>savory,umami</td>\n",
       "      <td>savory</td>\n",
       "    </tr>\n",
       "    <tr>\n",
       "      <th>1249</th>\n",
       "      <td>Spicy Basil Chicken Scream</td>\n",
       "      <td>1/2 kg pre-boiled chicken--1 bunch basil--2 ca...</td>\n",
       "      <td>1. Fry the pre-boiled chicken until cooked the...</td>\n",
       "      <td>spicy,savory,umami</td>\n",
       "      <td>spicy</td>\n",
       "    </tr>\n",
       "    <tr>\n",
       "      <th>1250</th>\n",
       "      <td>Chicken and Tofu with Green Chili</td>\n",
       "      <td>Fresh chicken, cut into small pieces--Tofu, cu...</td>\n",
       "      <td>1. Fry chicken and tofu until golden, not too ...</td>\n",
       "      <td>spicy,savory,umami</td>\n",
       "      <td>spicy</td>\n",
       "    </tr>\n",
       "    <tr>\n",
       "      <th>1251</th>\n",
       "      <td>Fried Chicken with Green Chili and Ginger......😁😁</td>\n",
       "      <td>1 Chicken (Cut into 15)--1/2 Kg Large Green Ch...</td>\n",
       "      <td>1. Wash the chicken thoroughly then drain--2. ...</td>\n",
       "      <td>spicy,savory,umami</td>\n",
       "      <td>spicy</td>\n",
       "    </tr>\n",
       "    <tr>\n",
       "      <th>1252</th>\n",
       "      <td>Steamed Buns (Chicken and Chocolate Fillings)</td>\n",
       "      <td>For the dough:--500 gr pao flour--100 gr granu...</td>\n",
       "      <td>For the chicken filling:--1. Marinate chicken ...</td>\n",
       "      <td>savory,umami,sweet</td>\n",
       "      <td>savory</td>\n",
       "    </tr>\n",
       "  </tbody>\n",
       "</table>\n",
       "<p>1253 rows × 5 columns</p>\n",
       "</div>"
      ]
     },
     "execution_count": 14,
     "metadata": {},
     "output_type": "execute_result"
    }
   ],
   "execution_count": 14
  },
  {
   "metadata": {
    "ExecuteTime": {
     "end_time": "2025-05-09T10:00:37.460712Z",
     "start_time": "2025-05-09T10:00:37.259058Z"
    }
   },
   "cell_type": "code",
   "source": [
    "# Finalize data processing\n",
    "path = \"../csv/translated\"\n",
    "eggs = pd.read_csv(f\"{path}/eggs_translated_en.csv\")\n",
    "fishs = pd.read_csv(f\"{path}/fishs_translated_en.csv\")\n",
    "lambs = pd.read_csv(f\"{path}/lambs_translated_en.csv\")\n",
    "tofus = pd.read_csv(f\"{path}/tofus_translated_en.csv\")\n",
    "soybeans = pd.read_csv(f\"{path}/soybeans_translated_en.csv\")\n",
    "prawns = pd.read_csv(f\"{path}/prawns_translated_en.csv\")"
   ],
   "id": "6435308e782d561d",
   "outputs": [],
   "execution_count": 15
  },
  {
   "metadata": {
    "ExecuteTime": {
     "end_time": "2025-05-09T12:17:27.301003Z",
     "start_time": "2025-05-09T10:00:38.021428Z"
    }
   },
   "cell_type": "code",
   "source": [
    "# Assign dominant flavor profile\n",
    "df_names = [\"eggs\", \"fishs\", \"lambs\",\"tofus\", \"soybeans\", \"prawns\"]\n",
    "dfs = [eggs, fishs, lambs, tofus, soybeans, prawns]\n",
    "print(\"Start Assignments ...\")\n",
    "for name, df in zip(df_names, dfs):\n",
    "   with tqdm(\n",
    "           total=len(df),\n",
    "           bar_format = \"{l_bar}{bar}|{n_fmt}/{total_fmt}[{remaining}]\",\n",
    "           colour=\"blue\",\n",
    "           desc=f\"Processing {name}\") as pbar:\n",
    "        df[\"DominantFlavor\"] = df.apply(\n",
    "            lambda x: (pbar.update(1), predict_most_dominant_fp(x))[1],\n",
    "            axis=1\n",
    "        )\n",
    "        df.to_csv(f\"../csv/temp/final_{name}_temp.csv\", index=False)\n",
    "print(\"Assignments Completed\")"
   ],
   "id": "178936fb468feef9",
   "outputs": [
    {
     "name": "stdout",
     "output_type": "stream",
     "text": [
      "Start Assignments ...\n"
     ]
    },
    {
     "data": {
      "text/plain": [
       "Processing eggs:   0%|          |0/1504[?]"
      ],
      "application/vnd.jupyter.widget-view+json": {
       "version_major": 2,
       "version_minor": 0,
       "model_id": "072981165b8348d692c95788a23c210e"
      }
     },
     "metadata": {},
     "output_type": "display_data"
    },
    {
     "data": {
      "text/plain": [
       "Processing fishs:   0%|          |0/1382[?]"
      ],
      "application/vnd.jupyter.widget-view+json": {
       "version_major": 2,
       "version_minor": 0,
       "model_id": "52b934d9bfc3462c84e25f0a23b10a11"
      }
     },
     "metadata": {},
     "output_type": "display_data"
    },
    {
     "data": {
      "text/plain": [
       "Processing lambs:   0%|          |0/1000[?]"
      ],
      "application/vnd.jupyter.widget-view+json": {
       "version_major": 2,
       "version_minor": 0,
       "model_id": "f9ec62e52edc44ca9c99c8dc561d9809"
      }
     },
     "metadata": {},
     "output_type": "display_data"
    },
    {
     "data": {
      "text/plain": [
       "Processing tofus:   0%|          |0/1263[?]"
      ],
      "application/vnd.jupyter.widget-view+json": {
       "version_major": 2,
       "version_minor": 0,
       "model_id": "02d263b13f4f422b8d47dd1295132ec3"
      }
     },
     "metadata": {},
     "output_type": "display_data"
    },
    {
     "data": {
      "text/plain": [
       "Processing soybeans:   0%|          |0/1158[?]"
      ],
      "application/vnd.jupyter.widget-view+json": {
       "version_major": 2,
       "version_minor": 0,
       "model_id": "51094030fe15434795073260395ddfb1"
      }
     },
     "metadata": {},
     "output_type": "display_data"
    },
    {
     "data": {
      "text/plain": [
       "Processing prawns:   0%|          |0/1270[?]"
      ],
      "application/vnd.jupyter.widget-view+json": {
       "version_major": 2,
       "version_minor": 0,
       "model_id": "22d9a05b2d5c4c7faca61749c903c3a9"
      }
     },
     "metadata": {},
     "output_type": "display_data"
    },
    {
     "name": "stdout",
     "output_type": "stream",
     "text": [
      "Assignments Completed\n"
     ]
    }
   ],
   "execution_count": 16
  },
  {
   "metadata": {
    "ExecuteTime": {
     "end_time": "2025-05-09T12:17:28.252433Z",
     "start_time": "2025-05-09T12:17:28.008997Z"
    }
   },
   "cell_type": "code",
   "source": [
    "# Combine all indonesian recipes\n",
    "indonesian_recipes = pd.concat([\n",
    "    chickens,\n",
    "    eggs,\n",
    "    fishs,\n",
    "    lambs,\n",
    "    soybeans,\n",
    "    prawns,\n",
    "    tofus\n",
    "], axis=0)\n",
    "indonesian_recipes"
   ],
   "id": "18cfa165a851ce47",
   "outputs": [
    {
     "data": {
      "text/plain": [
       "                                 Title  \\\n",
       "0               Sweet and Sour Chicken   \n",
       "1                        Bacem Chicken   \n",
       "2                      Grilled Chicken   \n",
       "3     Grilled Chicken with Rujak Spice   \n",
       "4            Sweet Soy Grilled Chicken   \n",
       "...                                ...   \n",
       "1258         Braised Pindang with Tofu   \n",
       "1259           Chicken with Tofu Sauce   \n",
       "1260                   DEBM Style Tofu   \n",
       "1261          Simple Crispy Fried Tofu   \n",
       "1262                Yellow Spiced Tofu   \n",
       "\n",
       "                                            Ingredients  \\\n",
       "0     1/2 chicken--1 tbsp cornstarch--Water--Sauce i...   \n",
       "1     1 chicken (cut into 12)--500 ml coconut water-...   \n",
       "2     12 chicken pieces (thighs and drumsticks)--Gro...   \n",
       "3     1/2 free-range chicken--10 garlic cloves--Pepp...   \n",
       "4     1/2 kg chicken wings--3 garlic cloves--2 cm tu...   \n",
       "...                                                 ...   \n",
       "1258  6 pindang fish--6 fried tofu--Spices:--4 shall...   \n",
       "1259  250 gr chicken breast--1 egg--2 tbsp tapioca f...   \n",
       "1260  4 eggs--1 triangle coconut milk--1 pack plain ...   \n",
       "1261  4 white tofu (half-fried)--6 tbsp flour--3 tbs...   \n",
       "1262  5 white tofu (cut into triangles)--1 bunch lon...   \n",
       "\n",
       "                                                  Steps       FlavorProfile  \\\n",
       "0     1. Clean the chicken and marinate with salt, s...   sweet,sour,savory   \n",
       "1     1. Clean the chicken thoroughly. Blend all gro...        savory,sweet   \n",
       "2     1. Sauté ground spices until fragrant. Add Wor...  savory,smoky,sweet   \n",
       "3     1. Blend bird's eye chilies, curly chilies, ga...  spicy,sweet,savory   \n",
       "4     1. Blend garlic, turmeric, and salt--2. Braise...        sweet,savory   \n",
       "...                                                 ...                 ...   \n",
       "1258  1. Clean and fry fish--2. Slice spices--3. Sau...  savory,umami,spicy   \n",
       "1259  1. Mix chicken with egg, flour, salt, and pepp...        savory,umami   \n",
       "1260  1. Blend all ingredients--2. Steam for 20 minu...        savory,umami   \n",
       "1261  1. Half-fry tofu--2. Grind spices, mix with fl...        savory,umami   \n",
       "1262  1. Half-fry tofu--2. Sauté spices with lemongr...        savory,umami   \n",
       "\n",
       "     DominantFlavor  \n",
       "0            savory  \n",
       "1             sweet  \n",
       "2            savory  \n",
       "3             spicy  \n",
       "4             sweet  \n",
       "...             ...  \n",
       "1258          spicy  \n",
       "1259          umami  \n",
       "1260         savory  \n",
       "1261         savory  \n",
       "1262          umami  \n",
       "\n",
       "[8830 rows x 5 columns]"
      ],
      "text/html": [
       "<div>\n",
       "<style scoped>\n",
       "    .dataframe tbody tr th:only-of-type {\n",
       "        vertical-align: middle;\n",
       "    }\n",
       "\n",
       "    .dataframe tbody tr th {\n",
       "        vertical-align: top;\n",
       "    }\n",
       "\n",
       "    .dataframe thead th {\n",
       "        text-align: right;\n",
       "    }\n",
       "</style>\n",
       "<table border=\"1\" class=\"dataframe\">\n",
       "  <thead>\n",
       "    <tr style=\"text-align: right;\">\n",
       "      <th></th>\n",
       "      <th>Title</th>\n",
       "      <th>Ingredients</th>\n",
       "      <th>Steps</th>\n",
       "      <th>FlavorProfile</th>\n",
       "      <th>DominantFlavor</th>\n",
       "    </tr>\n",
       "  </thead>\n",
       "  <tbody>\n",
       "    <tr>\n",
       "      <th>0</th>\n",
       "      <td>Sweet and Sour Chicken</td>\n",
       "      <td>1/2 chicken--1 tbsp cornstarch--Water--Sauce i...</td>\n",
       "      <td>1. Clean the chicken and marinate with salt, s...</td>\n",
       "      <td>sweet,sour,savory</td>\n",
       "      <td>savory</td>\n",
       "    </tr>\n",
       "    <tr>\n",
       "      <th>1</th>\n",
       "      <td>Bacem Chicken</td>\n",
       "      <td>1 chicken (cut into 12)--500 ml coconut water-...</td>\n",
       "      <td>1. Clean the chicken thoroughly. Blend all gro...</td>\n",
       "      <td>savory,sweet</td>\n",
       "      <td>sweet</td>\n",
       "    </tr>\n",
       "    <tr>\n",
       "      <th>2</th>\n",
       "      <td>Grilled Chicken</td>\n",
       "      <td>12 chicken pieces (thighs and drumsticks)--Gro...</td>\n",
       "      <td>1. Sauté ground spices until fragrant. Add Wor...</td>\n",
       "      <td>savory,smoky,sweet</td>\n",
       "      <td>savory</td>\n",
       "    </tr>\n",
       "    <tr>\n",
       "      <th>3</th>\n",
       "      <td>Grilled Chicken with Rujak Spice</td>\n",
       "      <td>1/2 free-range chicken--10 garlic cloves--Pepp...</td>\n",
       "      <td>1. Blend bird's eye chilies, curly chilies, ga...</td>\n",
       "      <td>spicy,sweet,savory</td>\n",
       "      <td>spicy</td>\n",
       "    </tr>\n",
       "    <tr>\n",
       "      <th>4</th>\n",
       "      <td>Sweet Soy Grilled Chicken</td>\n",
       "      <td>1/2 kg chicken wings--3 garlic cloves--2 cm tu...</td>\n",
       "      <td>1. Blend garlic, turmeric, and salt--2. Braise...</td>\n",
       "      <td>sweet,savory</td>\n",
       "      <td>sweet</td>\n",
       "    </tr>\n",
       "    <tr>\n",
       "      <th>...</th>\n",
       "      <td>...</td>\n",
       "      <td>...</td>\n",
       "      <td>...</td>\n",
       "      <td>...</td>\n",
       "      <td>...</td>\n",
       "    </tr>\n",
       "    <tr>\n",
       "      <th>1258</th>\n",
       "      <td>Braised Pindang with Tofu</td>\n",
       "      <td>6 pindang fish--6 fried tofu--Spices:--4 shall...</td>\n",
       "      <td>1. Clean and fry fish--2. Slice spices--3. Sau...</td>\n",
       "      <td>savory,umami,spicy</td>\n",
       "      <td>spicy</td>\n",
       "    </tr>\n",
       "    <tr>\n",
       "      <th>1259</th>\n",
       "      <td>Chicken with Tofu Sauce</td>\n",
       "      <td>250 gr chicken breast--1 egg--2 tbsp tapioca f...</td>\n",
       "      <td>1. Mix chicken with egg, flour, salt, and pepp...</td>\n",
       "      <td>savory,umami</td>\n",
       "      <td>umami</td>\n",
       "    </tr>\n",
       "    <tr>\n",
       "      <th>1260</th>\n",
       "      <td>DEBM Style Tofu</td>\n",
       "      <td>4 eggs--1 triangle coconut milk--1 pack plain ...</td>\n",
       "      <td>1. Blend all ingredients--2. Steam for 20 minu...</td>\n",
       "      <td>savory,umami</td>\n",
       "      <td>savory</td>\n",
       "    </tr>\n",
       "    <tr>\n",
       "      <th>1261</th>\n",
       "      <td>Simple Crispy Fried Tofu</td>\n",
       "      <td>4 white tofu (half-fried)--6 tbsp flour--3 tbs...</td>\n",
       "      <td>1. Half-fry tofu--2. Grind spices, mix with fl...</td>\n",
       "      <td>savory,umami</td>\n",
       "      <td>savory</td>\n",
       "    </tr>\n",
       "    <tr>\n",
       "      <th>1262</th>\n",
       "      <td>Yellow Spiced Tofu</td>\n",
       "      <td>5 white tofu (cut into triangles)--1 bunch lon...</td>\n",
       "      <td>1. Half-fry tofu--2. Sauté spices with lemongr...</td>\n",
       "      <td>savory,umami</td>\n",
       "      <td>umami</td>\n",
       "    </tr>\n",
       "  </tbody>\n",
       "</table>\n",
       "<p>8830 rows × 5 columns</p>\n",
       "</div>"
      ]
     },
     "execution_count": 17,
     "metadata": {},
     "output_type": "execute_result"
    }
   ],
   "execution_count": 17
  },
  {
   "metadata": {
    "ExecuteTime": {
     "end_time": "2025-05-09T13:37:57.046448Z",
     "start_time": "2025-05-09T13:37:56.675068Z"
    }
   },
   "cell_type": "code",
   "source": [
    "# Save final recipes\n",
    "indonesian_recipes.to_csv(f\"../csv/final/indonesian_recipes.csv\", index=False)\n",
    "print(\"Indonesian Recipes Completed\")"
   ],
   "id": "682b9fcd02154504",
   "outputs": [
    {
     "name": "stdout",
     "output_type": "stream",
     "text": [
      "Indonesian Recipes Completed\n"
     ]
    }
   ],
   "execution_count": 19
  }
 ],
 "metadata": {
  "kernelspec": {
   "display_name": "Python 3",
   "language": "python",
   "name": "python3"
  },
  "language_info": {
   "codemirror_mode": {
    "name": "ipython",
    "version": 2
   },
   "file_extension": ".py",
   "mimetype": "text/x-python",
   "name": "python",
   "nbconvert_exporter": "python",
   "pygments_lexer": "ipython2",
   "version": "2.7.6"
  }
 },
 "nbformat": 4,
 "nbformat_minor": 5
}
