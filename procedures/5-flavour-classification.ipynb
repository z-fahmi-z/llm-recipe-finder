{
 "cells": [
  {
   "cell_type": "code",
   "id": "a930ca9d49467ab",
   "metadata": {},
   "source": [
    "from dotenv import load_dotenv\n",
    "load_dotenv()"
   ],
   "outputs": [],
   "execution_count": null
  },
  {
   "metadata": {
    "collapsed": true
   },
   "cell_type": "code",
   "source": [
    "# Load translated dataframe\n",
    "import pandas as pd\n",
    "chickens = pd.read_csv('../csv/translated/chickens_translated_en.csv')\n",
    "chickens"
   ],
   "id": "initial_id",
   "outputs": [],
   "execution_count": null
  },
  {
   "metadata": {},
   "cell_type": "code",
   "source": [
    "# Inspect flavour profiles\n",
    "chickens[\"FlavorProfile\"]"
   ],
   "id": "c5418af396b451d1",
   "outputs": [],
   "execution_count": null
  },
  {
   "metadata": {},
   "cell_type": "code",
   "source": [
    "# Clean whitespaces\n",
    "chickens[\"FlavorProfile\"] = chickens[\"FlavorProfile\"].str.replace(\" \", \"\")\n",
    "chickens[\"FlavorProfile\"]"
   ],
   "id": "c56be1cc0fe43285",
   "outputs": [],
   "execution_count": null
  },
  {
   "metadata": {},
   "cell_type": "code",
   "source": [
    "# Inspect additional flavour profiles that was not in system_prompt\n",
    "flavour_profile = chickens[\"FlavorProfile\"]\n",
    "filter_flavour_profile = flavour_profile\n",
    "known_categories = [\"sweet\", \"sour\", \"salty\", \"bitter\", \"umami\", \"savory\", \"smoky\"]\n",
    "for category in known_categories:\n",
    "    filter_flavour_profile = (\n",
    "        filter_flavour_profile.\n",
    "        str.replace(category, \"\").\n",
    "        str.replace(r'^[^a-zA-Z]+|[^a-zA-Z]+$|,(?=,)', '', regex=True)\n",
    "    )\n",
    "filter_flavour_profile = filter_flavour_profile[filter_flavour_profile.str.strip().ne(\"\")]\n",
    "filter_flavour_profile"
   ],
   "id": "d12e3167560aaeb8",
   "outputs": [],
   "execution_count": null
  },
  {
   "metadata": {},
   "cell_type": "code",
   "source": [
    "# Count values\n",
    "count_filtered_flavours = filter_flavour_profile.value_counts().reset_index().sort_values(\"count\", ascending=False)\n",
    "count_filtered_flavours"
   ],
   "id": "aa7e584cb6efef6e",
   "outputs": [],
   "execution_count": null
  },
  {
   "metadata": {},
   "cell_type": "code",
   "source": [
    "# Load zero-shot-classification model\n",
    "from transformers import pipeline\n",
    "model = \"facebook/bart-large-mnli\"\n",
    "zero_shot_classifier = pipeline(\n",
    "    \"zero-shot-classification\",\n",
    "    model=model,\n",
    "    device=\"cpu\"\n",
    ")"
   ],
   "id": "915ddf860200f745",
   "outputs": [],
   "execution_count": null
  },
  {
   "metadata": {},
   "cell_type": "code",
   "source": [
    "# Get the flavor profile of the  first recipe entry\n",
    "first_entry_flavor_profile = chickens.loc[0][\"FlavorProfile\"].split(\",\")\n",
    "first_entry_flavor_profile = first_entry_flavor_profile[0:2]\n",
    "first_entry_flavor_profile"
   ],
   "id": "4b6573f7b34085ed",
   "outputs": [],
   "execution_count": null
  },
  {
   "metadata": {},
   "cell_type": "code",
   "source": [
    "# Get the ingredients of the first entry\n",
    "first_entry_ingredients = chickens.loc[0][\"Ingredients\"]\n",
    "first_entry_ingredients"
   ],
   "id": "b64aa3e868ffc88a",
   "outputs": [],
   "execution_count": null
  },
  {
   "metadata": {},
   "cell_type": "code",
   "source": [
    "# Test for zero-shot-classification task\n",
    "result = zero_shot_classifier(first_entry_ingredients, first_entry_flavor_profile)\n",
    "result"
   ],
   "id": "b254a527db51dd25",
   "outputs": [],
   "execution_count": null
  },
  {
   "metadata": {},
   "cell_type": "code",
   "source": [
    "# Get max score and most dominant flavor profile\n",
    "import numpy as np\n",
    "dominant_fp = result[\"labels\"][np.argmax(result[\"scores\"])]\n",
    "dominant_fp"
   ],
   "id": "570991a68bee43bd",
   "outputs": [],
   "execution_count": null
  },
  {
   "metadata": {},
   "cell_type": "code",
   "source": [
    "# Create function to predict most dominant flavor profile to the recipe\n",
    "def predict_most_dominant_fp(recipe):\n",
    "    classified = zero_shot_classifier(recipe[\"Ingredients\"], recipe[\"FlavorProfile\"])\n",
    "    max_score_index = np.argmax(classified[\"scores\"])\n",
    "    return classified[\"labels\"][max_score_index]\n",
    "first_entry = chickens.loc[0]\n",
    "predict_most_dominant_fp(first_entry)"
   ],
   "id": "ff6c68b2c09a160c",
   "outputs": [],
   "execution_count": null
  },
  {
   "metadata": {},
   "cell_type": "code",
   "source": [
    "# Customize the progress bar appearance\n",
    "from tqdm.notebook import tqdm\n",
    "tqdm.pandas(\n",
    "    desc=\"Predicting Dominant Flavor Profile\",\n",
    "    bar_format=\"{l_bar}{bar:50}{r_bar}\",\n",
    "    colour='blue'\n",
    ")"
   ],
   "id": "9527de3fcfbacbd1",
   "outputs": [],
   "execution_count": null
  },
  {
   "metadata": {},
   "cell_type": "code",
   "source": [
    "# Start prediction\n",
    "chickens['DominantFlavor'] = chickens.progress_apply(predict_most_dominant_fp, axis=1)\n",
    "chickens"
   ],
   "id": "a9f93b5654f6cb57",
   "outputs": [],
   "execution_count": null
  },
  {
   "metadata": {},
   "cell_type": "code",
   "source": [
    "# Finalize data processing\n",
    "path = \"../csv/translated\"\n",
    "eggs = pd.read_csv(f\"{path}/eggs_translated_en.csv\")\n",
    "fishs = pd.read_csv(f\"{path}/fishs_translated_en.csv\")\n",
    "lambs = pd.read_csv(f\"{path}/lambs_translated_en.csv\")\n",
    "tofus = pd.read_csv(f\"{path}/tofus_translated_en.csv\")\n",
    "soybeans = pd.read_csv(f\"{path}/soybeans_translated_en.csv\")\n",
    "prawns = pd.read_csv(f\"{path}/prawns_translated_en.csv\")"
   ],
   "id": "6435308e782d561d",
   "outputs": [],
   "execution_count": null
  },
  {
   "metadata": {},
   "cell_type": "code",
   "source": [
    "# Assign dominant flavor profile\n",
    "df_names = [\"tofus\", \"prawns\"]\n",
    "dfs = [lambs, tofus, soybeans, prawns]\n",
    "print(\"Start Assignments ...\")\n",
    "for name, df in zip(df_names, dfs):\n",
    "   with tqdm(\n",
    "           total=len(df),\n",
    "           bar_format = \"{l_bar}{bar}|{n_fmt}/{total_fmt}[{remaining}]\",\n",
    "           colour=\"blue\",\n",
    "           desc=f\"Processing {name}\") as pbar:\n",
    "        df[\"DominantFlavor\"] = df.apply(\n",
    "            lambda x: (pbar.update(1), predict_most_dominant_fp(x))[1],\n",
    "            axis=1\n",
    "        )\n",
    "        df.to_csv(f\"../csv/temp/final_{name}_temp.csv\", index=False)\n",
    "print(\"Assignments Completed\")"
   ],
   "id": "178936fb468feef9",
   "outputs": [],
   "execution_count": null
  },
  {
   "metadata": {},
   "cell_type": "code",
   "source": [
    "# Combine all indonesian recipes\n",
    "indonesian_recipes = pd.concat([\n",
    "    chickens,\n",
    "    eggs,\n",
    "    fishs,\n",
    "    lambs,\n",
    "    soybeans,\n",
    "    prawns,\n",
    "    tofus\n",
    "], axis=0)\n",
    "indonesian_recipes"
   ],
   "id": "18cfa165a851ce47",
   "outputs": [],
   "execution_count": null
  },
  {
   "metadata": {},
   "cell_type": "code",
   "source": [
    "# Save final recipes\n",
    "indonesian_recipes.to_csv(f\"../csv/final/indonesian_recipes.csv\", index=False)\n",
    "print(\"Indonesian Recipes Completed\")"
   ],
   "id": "682b9fcd02154504",
   "outputs": [],
   "execution_count": null
  }
 ],
 "metadata": {
  "kernelspec": {
   "display_name": "Python 3",
   "language": "python",
   "name": "python3"
  },
  "language_info": {
   "codemirror_mode": {
    "name": "ipython",
    "version": 2
   },
   "file_extension": ".py",
   "mimetype": "text/x-python",
   "name": "python",
   "nbconvert_exporter": "python",
   "pygments_lexer": "ipython2",
   "version": "2.7.6"
  }
 },
 "nbformat": 4,
 "nbformat_minor": 5
}
