{
 "cells": [
  {
   "cell_type": "code",
   "id": "initial_id",
   "metadata": {
    "collapsed": true
   },
   "source": [
    "import kagglehub\n",
    "from dotenv import load_dotenv, set_key\n",
    "# Download latest version\n",
    "path = kagglehub.dataset_download(\"canggih/indonesian-food-recipes\")\n",
    "load_dotenv()\n",
    "set_key(\".env\", \"KAGGLE_PATH\", path)\n",
    "print(\"Path to dataset files:\", path)"
   ],
   "outputs": [],
   "execution_count": null
  },
  {
   "metadata": {},
   "cell_type": "code",
   "source": [
    "import pandas as pd\n",
    "chickens = pd.read_csv(f\"{path}/dataset-ayam.csv\")\n",
    "chickens"
   ],
   "id": "7e287a29c5ecc103",
   "outputs": [],
   "execution_count": null
  },
  {
   "metadata": {},
   "cell_type": "code",
   "source": [
    "import seaborn as sns\n",
    "import matplotlib.pyplot as plt"
   ],
   "id": "762f7b67d4cf1dbf",
   "outputs": [],
   "execution_count": null
  },
  {
   "metadata": {},
   "cell_type": "code",
   "source": [
    "ax = plt.axes()\n",
    "sns.heatmap(chickens.isna().transpose(), cbar=False, ax=ax)"
   ],
   "id": "7a6f9a933fa6e6e2",
   "outputs": [],
   "execution_count": null
  },
  {
   "metadata": {},
   "cell_type": "code",
   "source": [
    "plt.xlabel(\"Columns\")\n",
    "plt.ylabel(\"Missing Values\")\n",
    "plt.show()"
   ],
   "id": "6639a183653c2166",
   "outputs": [],
   "execution_count": null
  },
  {
   "metadata": {},
   "cell_type": "code",
   "source": [
    "import numpy as np\n",
    "chickens[\"missing_ingredients\"] = np.where(chickens[\"Ingredients\"].isna(), 1, 0)\n",
    "chickens[\"missing_steps\"] = np.where(chickens[\"Steps\"].isna(), 1, 0)"
   ],
   "id": "64590429ec2476f5",
   "outputs": [],
   "execution_count": null
  },
  {
   "metadata": {},
   "cell_type": "code",
   "source": [
    "columns_of_interest = [\"Loves\", \"missing_ingredients\", \"missing_steps\"]\n",
    "\n",
    "correlation_matrix = chickens[columns_of_interest].corr(method=\"spearman\")\n",
    "sns.set_theme(style=\"white\")\n",
    "plt.figure(figsize=(8, 6))\n",
    "\n",
    "heatmap = sns.heatmap(correlation_matrix, annot=True, fmt=\".2f\", cmap=\"coolwarm\", cbar_kws={\"label\": \"Spearman Correlation\"})\n",
    "heatmap.set_title(\"Correlation Heatmap\")\n",
    "plt.show()"
   ],
   "id": "f685ef1aeb2f05a8",
   "outputs": [],
   "execution_count": null
  },
  {
   "metadata": {},
   "cell_type": "code",
   "source": [
    "# New data frame without empty ingredients and steps\n",
    "chickens_clean_missing = chickens[(\n",
    "    - chickens[\"Ingredients\"].isna() &\n",
    "    - chickens[\"Steps\"].isna()\n",
    ")]\n",
    "chickens_clean_missing"
   ],
   "id": "976cd03b545c3746",
   "outputs": [],
   "execution_count": null
  },
  {
   "metadata": {},
   "cell_type": "code",
   "source": "chickens_clean_missing[\"Title\"].value_counts().reset_index().sort_values(\"count\", ascending=False)",
   "id": "86b29c32ce647d25",
   "outputs": [],
   "execution_count": null
  },
  {
   "metadata": {},
   "cell_type": "code",
   "source": "chickens_clean_missing",
   "id": "f1a5914685c9966f",
   "outputs": [],
   "execution_count": null
  },
  {
   "metadata": {},
   "cell_type": "code",
   "source": [
    "chickens_clean_missing[\n",
    "    chickens_clean_missing[\"Title\"] == \"Soto Ayam\"\n",
    "]"
   ],
   "id": "1d095c8ec68375a7",
   "outputs": [],
   "execution_count": null
  },
  {
   "metadata": {},
   "cell_type": "code",
   "source": [
    "chickens_title = chickens_clean_missing.copy()\n",
    "chickens_title[\"Title\"] = (chickens_title[\"Title\"]\n",
    "                           .str.title()\n",
    "                           .str.replace(r\"^[^a-zA-Z]*\", \"\", regex=True)\n",
    "                           )"
   ],
   "id": "a17100b10b196a84",
   "outputs": [],
   "execution_count": null
  },
  {
   "metadata": {},
   "cell_type": "code",
   "source": [
    "title_count = chickens_title[\"Title\"].value_counts().reset_index().sort_values(\"count\", ascending=False)\n",
    "chickens_title_dupes = title_count[\n",
    "    title_count[\"count\"] > 1\n",
    "]\n",
    "chickens_title_dupes"
   ],
   "id": "571c9c165b26b771",
   "outputs": [],
   "execution_count": null
  },
  {
   "metadata": {},
   "cell_type": "code",
   "source": [
    "chickens_unique = chickens_title[\n",
    "    ~chickens_title[\"Title\"].isin(chickens_title_dupes[\"Title\"])\n",
    "]\n",
    "chickens_dupe = chickens_title[\n",
    "    chickens_title[\"Title\"].isin(chickens_title_dupes[\"Title\"])\n",
    "]\n",
    "max_chickens_dupe_loves = chickens_dupe.loc[\n",
    "    chickens_dupe.groupby(\"Title\")[\"Loves\"].idxmax()\n",
    "]\n",
    "chickens_distinct = pd.concat([\n",
    "    max_chickens_dupe_loves,\n",
    "    chickens_unique\n",
    "]).reset_index(drop=True)\n",
    "chickens_distinct"
   ],
   "id": "ed577af70654e520",
   "outputs": [],
   "execution_count": null
  },
  {
   "metadata": {},
   "cell_type": "code",
   "source": [
    "(\n",
    "    chickens_distinct\n",
    "    .drop([\"missing_ingredients\", \"missing_steps\"], axis=1)\n",
    "    .to_csv(\"../csv/cleaned/chickens_cleaned.csv\", index=False)\n",
    ")"
   ],
   "id": "2ec57f0d2884d0d8",
   "outputs": [],
   "execution_count": null
  }
 ],
 "metadata": {
  "kernelspec": {
   "display_name": "Python 3",
   "language": "python",
   "name": "python3"
  },
  "language_info": {
   "codemirror_mode": {
    "name": "ipython",
    "version": 2
   },
   "file_extension": ".py",
   "mimetype": "text/x-python",
   "name": "python",
   "nbconvert_exporter": "python",
   "pygments_lexer": "ipython2",
   "version": "2.7.6"
  }
 },
 "nbformat": 4,
 "nbformat_minor": 5
}
