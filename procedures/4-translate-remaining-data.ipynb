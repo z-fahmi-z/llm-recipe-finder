{
 "cells": [
  {
   "cell_type": "code",
   "id": "251b3937e93fd93b",
   "metadata": {},
   "source": [
    "import pandas as pd\n",
    "import os\n",
    "from dotenv import load_dotenv\n",
    "load_dotenv()"
   ],
   "outputs": [],
   "execution_count": null
  },
  {
   "metadata": {},
   "cell_type": "code",
   "source": "path = \"../csv/cleaned\"",
   "id": "67e8dc3d00d01092",
   "outputs": [],
   "execution_count": null
  },
  {
   "metadata": {},
   "cell_type": "code",
   "source": [
    "eggs = pd.read_csv(f\"{path}/eggs_cleaned.csv\")\n",
    "fishs = pd.read_csv(f\"{path}/fishs_cleaned.csv\")\n",
    "lambs = pd.read_csv(f\"{path}/lambs_cleaned.csv\")\n",
    "tofus = pd.read_csv(f\"{path}/tofus_cleaned.csv\")\n",
    "soybeans = pd.read_csv(f\"{path}/soybeans_cleaned.csv\")\n",
    "prawns = pd.read_csv(f\"{path}/prawns_cleaned.csv\")"
   ],
   "id": "ada5598d42f299",
   "outputs": [],
   "execution_count": null
  },
  {
   "metadata": {},
   "cell_type": "code",
   "source": [
    "# Load model\n",
    "from langchain_deepseek import ChatDeepSeek\n",
    "deepseek_v3 = ChatDeepSeek(\n",
    "    model=\"deepseek-chat\",\n",
    "    temperature=0,\n",
    "    max_tokens=4096,\n",
    "    timeout=None,\n",
    "    max_retries=2,\n",
    "    api_key=os.getenv(\"DEEPSEEK_API_KEY\")\n",
    ")\n",
    "system_prompt = open(\"../system-prompts/translator_v2.json\").read().replace('\\n', '').replace(' ', '')"
   ],
   "id": "e5fddc38fc061ac0",
   "outputs": [],
   "execution_count": null
  },
  {
   "metadata": {},
   "cell_type": "code",
   "source": [
    "# Define default delimiters according to system_prompt return format\n",
    "collection_delimiters = ['```json\\n[', ']```']\n",
    "element_delimiters = ['{', '}']\n",
    "strip_delimiters = ['```json\\n', '```']"
   ],
   "id": "254c0088e2f1588f",
   "outputs": [],
   "execution_count": null
  },
  {
   "metadata": {},
   "cell_type": "code",
   "source": [
    "# Configure LlmTranslator\n",
    "from helpers.async_translate import LlmTranslator\n",
    "llm_translator = LlmTranslator(\n",
    "    deepseek_v3,\n",
    "    system_prompt,\n",
    "    collection_delimiters=collection_delimiters,\n",
    "    element_delimiters=element_delimiters\n",
    ")"
   ],
   "id": "cacb651463c91db9",
   "outputs": [],
   "execution_count": null
  },
  {
   "metadata": {},
   "cell_type": "code",
   "source": [
    "# Prepare remaining dataframes\n",
    "dataframes = [eggs, fishs, lambs, tofus, soybeans, prawns]\n",
    "filenames = [\n",
    "    \"eggs_translated_en\",\n",
    "    \"fishs_translated_en\",\n",
    "    \"lambs_translated_en\",\n",
    "    \"tofus_translated_en\",\n",
    "    \"soybeans_translated_en\",\n",
    "    \"prawns_translated_en\"\n",
    "]\n",
    "ROWS_PER_BATCH = 21"
   ],
   "id": "4fdd50e3260118ca",
   "outputs": [],
   "execution_count": null
  },
  {
   "metadata": {
    "collapsed": true
   },
   "cell_type": "code",
   "source": [
    "from helpers.output_processor import parse_llm_outputs_to_json_array\n",
    "from helpers.batch_dataframe import calculate_batches, batch_dataframe\n",
    "\n",
    "subset = [\"Title\", \"Ingredients\", \"Steps\"]\n",
    "for i in range(dataframes.__len__()):\n",
    "    df_subset = dataframes[i][subset]\n",
    "    df_subset_as_list = df_subset.values.tolist()\n",
    "\n",
    "    batches_number = calculate_batches(dataframes[i], ROWS_PER_BATCH)\n",
    "    batches = batch_dataframe(df_subset_as_list, batches_number)\n",
    "\n",
    "    results = await llm_translator.process_batches(batches)\n",
    "    recipes = parse_llm_outputs_to_json_array(results, strip_delimiters)\n",
    "\n",
    "    df_translated_en = pd.DataFrame(recipes)\n",
    "    df_translated_en.to_csv(f\"../csv/translated/{filenames[i]}_translated_en.csv\", index=False)"
   ],
   "id": "initial_id",
   "outputs": [],
   "execution_count": null
  }
 ],
 "metadata": {
  "kernelspec": {
   "display_name": "Python 3",
   "language": "python",
   "name": "python3"
  },
  "language_info": {
   "codemirror_mode": {
    "name": "ipython",
    "version": 2
   },
   "file_extension": ".py",
   "mimetype": "text/x-python",
   "name": "python",
   "nbconvert_exporter": "python",
   "pygments_lexer": "ipython2",
   "version": "2.7.6"
  }
 },
 "nbformat": 4,
 "nbformat_minor": 5
}
